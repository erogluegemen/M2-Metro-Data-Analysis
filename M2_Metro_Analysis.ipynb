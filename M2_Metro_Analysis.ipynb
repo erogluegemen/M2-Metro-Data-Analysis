{
 "cells": [
  {
   "cell_type": "markdown",
   "id": "d06cf76b-6c43-4948-af80-751f204e7cac",
   "metadata": {},
   "source": [
    "## Bugün en çok kullanmış olduğum M2 Metro hattını inceliycez."
   ]
  },
  {
   "cell_type": "code",
   "execution_count": 55,
   "id": "6185d2c1-4085-42fc-a1ed-3eec58b040b3",
   "metadata": {},
   "outputs": [],
   "source": [
    "import matplotlib.pyplot as plt\n",
    "%matplotlib inline\n",
    "import pandas as pd\n",
    "import openpyxl\n",
    "pd.plotting.register_matplotlib_converters()\n",
    "import seaborn as sns\n",
    " "
   ]
  },
  {
   "cell_type": "markdown",
   "id": "41484130-8d81-4a39-8863-e26ce0f405a8",
   "metadata": {},
   "source": [
    "### Veri setinde abonman fiyat bilgileri olmadığı için kendim ufak bir google aramasıyla o yıllara ait abonman bilgilerini alıp bir dataframe oluşturdum ki metro kullanımındaki artış azalışı daha iyi anlayabilelim. (Spoiler alert: Anlayamayacağız🥲)"
   ]
  },
  {
   "cell_type": "code",
   "execution_count": 155,
   "id": "d0ffeb88-81f2-410e-a78d-1301eaa15cc8",
   "metadata": {},
   "outputs": [
    {
     "data": {
      "text/html": [
       "<div>\n",
       "<style scoped>\n",
       "    .dataframe tbody tr th:only-of-type {\n",
       "        vertical-align: middle;\n",
       "    }\n",
       "\n",
       "    .dataframe tbody tr th {\n",
       "        vertical-align: top;\n",
       "    }\n",
       "\n",
       "    .dataframe thead th {\n",
       "        text-align: right;\n",
       "    }\n",
       "</style>\n",
       "<table border=\"1\" class=\"dataframe\">\n",
       "  <thead>\n",
       "    <tr style=\"text-align: right;\">\n",
       "      <th></th>\n",
       "      <th>Yıl</th>\n",
       "      <th>Abonman Ücreti(TL)</th>\n",
       "    </tr>\n",
       "  </thead>\n",
       "  <tbody>\n",
       "    <tr>\n",
       "      <th>0</th>\n",
       "      <td>2017</td>\n",
       "      <td>85</td>\n",
       "    </tr>\n",
       "    <tr>\n",
       "      <th>1</th>\n",
       "      <td>2018</td>\n",
       "      <td>85</td>\n",
       "    </tr>\n",
       "    <tr>\n",
       "      <th>2</th>\n",
       "      <td>2019</td>\n",
       "      <td>40</td>\n",
       "    </tr>\n",
       "  </tbody>\n",
       "</table>\n",
       "</div>"
      ],
      "text/plain": [
       "    Yıl  Abonman Ücreti(TL)\n",
       "0  2017                  85\n",
       "1  2018                  85\n",
       "2  2019                  40"
      ]
     },
     "execution_count": 155,
     "metadata": {},
     "output_type": "execute_result"
    }
   ],
   "source": [
    "abonman = {2017:85, 2018:85, 2019:40}  \n",
    "abonman_df = pd.DataFrame(abonman.items(), columns=['Yıl', 'Abonman Ücreti(TL)'])\n",
    "abonman_df"
   ]
  },
  {
   "cell_type": "markdown",
   "id": "69417635-8495-4d1c-80d0-20738626992c",
   "metadata": {},
   "source": [
    "### Keşke csv verselermiş diye üzülerek başladığımız yolda yılmadan devam ediyoruz."
   ]
  },
  {
   "cell_type": "code",
   "execution_count": 6,
   "id": "e8c60397-8b65-4876-a9cf-34ef76e04ad9",
   "metadata": {},
   "outputs": [],
   "source": [
    "PATH = '/Users/egemeneroglu/Desktop/software/datasets/rayl-sistemler-gunluk-aylkyllk-hat-bazl-sefer-saylar.xlsx'"
   ]
  },
  {
   "cell_type": "markdown",
   "id": "39693e13-af9b-4df5-8c97-00224997b795",
   "metadata": {},
   "source": [
    "### Ve sadece 2017-2019 yılları arasını kapsaması üzdü, 2022'deyiz biraz güncelleyin lütfen🙏🏻"
   ]
  },
  {
   "cell_type": "code",
   "execution_count": 159,
   "id": "970e8d08-91ee-432f-95e4-ebe7c1f8f48f",
   "metadata": {},
   "outputs": [
    {
     "data": {
      "text/html": [
       "<div>\n",
       "<style scoped>\n",
       "    .dataframe tbody tr th:only-of-type {\n",
       "        vertical-align: middle;\n",
       "    }\n",
       "\n",
       "    .dataframe tbody tr th {\n",
       "        vertical-align: top;\n",
       "    }\n",
       "\n",
       "    .dataframe thead th {\n",
       "        text-align: right;\n",
       "    }\n",
       "</style>\n",
       "<table border=\"1\" class=\"dataframe\">\n",
       "  <thead>\n",
       "    <tr style=\"text-align: right;\">\n",
       "      <th></th>\n",
       "      <th>Yıl</th>\n",
       "      <th>Periyot</th>\n",
       "      <th>M1 Hattı</th>\n",
       "      <th>M2 Hattı</th>\n",
       "      <th>M3 Hattı</th>\n",
       "      <th>M4 Hattı</th>\n",
       "      <th>M5 Hattı</th>\n",
       "      <th>M6 Hattı</th>\n",
       "      <th>T1 Hattı</th>\n",
       "      <th>T3 Hattı</th>\n",
       "      <th>T4 Hattı</th>\n",
       "      <th>F1 Hattı</th>\n",
       "      <th>TF1 Hattı</th>\n",
       "      <th>TF2 Hattı</th>\n",
       "    </tr>\n",
       "  </thead>\n",
       "  <tbody>\n",
       "    <tr>\n",
       "      <th>0</th>\n",
       "      <td>2017</td>\n",
       "      <td>Günlük</td>\n",
       "      <td>692.0</td>\n",
       "      <td>744.60</td>\n",
       "      <td>531.00</td>\n",
       "      <td>378.0</td>\n",
       "      <td>270.0</td>\n",
       "      <td>242.00</td>\n",
       "      <td>687.00</td>\n",
       "      <td>73</td>\n",
       "      <td>390</td>\n",
       "      <td>383</td>\n",
       "      <td>64.0</td>\n",
       "      <td>198.00</td>\n",
       "    </tr>\n",
       "    <tr>\n",
       "      <th>1</th>\n",
       "      <td>2017</td>\n",
       "      <td>Aylık</td>\n",
       "      <td>21052.0</td>\n",
       "      <td>22648.25</td>\n",
       "      <td>16143.25</td>\n",
       "      <td>11500.5</td>\n",
       "      <td>4050.0</td>\n",
       "      <td>7360.00</td>\n",
       "      <td>20892.00</td>\n",
       "      <td>2222</td>\n",
       "      <td>11872</td>\n",
       "      <td>11661</td>\n",
       "      <td>1953.0</td>\n",
       "      <td>6026.00</td>\n",
       "    </tr>\n",
       "    <tr>\n",
       "      <th>2</th>\n",
       "      <td>2017</td>\n",
       "      <td>Yıllık</td>\n",
       "      <td>252628.0</td>\n",
       "      <td>271779.00</td>\n",
       "      <td>193719.00</td>\n",
       "      <td>138006.0</td>\n",
       "      <td>4050.0</td>\n",
       "      <td>88321.00</td>\n",
       "      <td>250704.00</td>\n",
       "      <td>26659</td>\n",
       "      <td>142468</td>\n",
       "      <td>139932</td>\n",
       "      <td>23440.0</td>\n",
       "      <td>72314.00</td>\n",
       "    </tr>\n",
       "    <tr>\n",
       "      <th>3</th>\n",
       "      <td>2018</td>\n",
       "      <td>Günlük</td>\n",
       "      <td>695.0</td>\n",
       "      <td>739.00</td>\n",
       "      <td>528.00</td>\n",
       "      <td>375.0</td>\n",
       "      <td>275.0</td>\n",
       "      <td>240.00</td>\n",
       "      <td>715.00</td>\n",
       "      <td>82</td>\n",
       "      <td>401</td>\n",
       "      <td>383</td>\n",
       "      <td>81.0</td>\n",
       "      <td>214.00</td>\n",
       "    </tr>\n",
       "    <tr>\n",
       "      <th>4</th>\n",
       "      <td>2018</td>\n",
       "      <td>Aylık</td>\n",
       "      <td>21128.0</td>\n",
       "      <td>22485.25</td>\n",
       "      <td>16054.25</td>\n",
       "      <td>11406.0</td>\n",
       "      <td>8352.0</td>\n",
       "      <td>7313.00</td>\n",
       "      <td>21744.25</td>\n",
       "      <td>2507</td>\n",
       "      <td>12194</td>\n",
       "      <td>11656</td>\n",
       "      <td>2452.5</td>\n",
       "      <td>6502.75</td>\n",
       "    </tr>\n",
       "    <tr>\n",
       "      <th>5</th>\n",
       "      <td>2018</td>\n",
       "      <td>Yıllık</td>\n",
       "      <td>253532.0</td>\n",
       "      <td>269823.00</td>\n",
       "      <td>192651.00</td>\n",
       "      <td>136874.0</td>\n",
       "      <td>100223.5</td>\n",
       "      <td>87757.00</td>\n",
       "      <td>260931.00</td>\n",
       "      <td>30079</td>\n",
       "      <td>146333</td>\n",
       "      <td>139872</td>\n",
       "      <td>29430.0</td>\n",
       "      <td>78033.00</td>\n",
       "    </tr>\n",
       "    <tr>\n",
       "      <th>6</th>\n",
       "      <td>2019</td>\n",
       "      <td>Günlük</td>\n",
       "      <td>700.0</td>\n",
       "      <td>695.00</td>\n",
       "      <td>532.00</td>\n",
       "      <td>377.0</td>\n",
       "      <td>348.0</td>\n",
       "      <td>261.00</td>\n",
       "      <td>758.00</td>\n",
       "      <td>70</td>\n",
       "      <td>420</td>\n",
       "      <td>387</td>\n",
       "      <td>87.0</td>\n",
       "      <td>197.00</td>\n",
       "    </tr>\n",
       "    <tr>\n",
       "      <th>7</th>\n",
       "      <td>2019</td>\n",
       "      <td>Aylık</td>\n",
       "      <td>21296.5</td>\n",
       "      <td>21147.00</td>\n",
       "      <td>16180.75</td>\n",
       "      <td>11462.0</td>\n",
       "      <td>10585.0</td>\n",
       "      <td>7951.75</td>\n",
       "      <td>23063.00</td>\n",
       "      <td>2136</td>\n",
       "      <td>12783</td>\n",
       "      <td>11782</td>\n",
       "      <td>2658.0</td>\n",
       "      <td>5980.00</td>\n",
       "    </tr>\n",
       "    <tr>\n",
       "      <th>8</th>\n",
       "      <td>2019</td>\n",
       "      <td>Yıllık</td>\n",
       "      <td>255558.0</td>\n",
       "      <td>253764.00</td>\n",
       "      <td>194169.00</td>\n",
       "      <td>137546.0</td>\n",
       "      <td>127022.0</td>\n",
       "      <td>95421.00</td>\n",
       "      <td>276752.00</td>\n",
       "      <td>25626</td>\n",
       "      <td>153397</td>\n",
       "      <td>141385</td>\n",
       "      <td>31894.0</td>\n",
       "      <td>71758.00</td>\n",
       "    </tr>\n",
       "  </tbody>\n",
       "</table>\n",
       "</div>"
      ],
      "text/plain": [
       "    Yıl Periyot  M1 Hattı   M2 Hattı   M3 Hattı  M4 Hattı  M5 Hattı  M6 Hattı  \\\n",
       "0  2017  Günlük     692.0     744.60     531.00     378.0     270.0    242.00   \n",
       "1  2017   Aylık   21052.0   22648.25   16143.25   11500.5    4050.0   7360.00   \n",
       "2  2017  Yıllık  252628.0  271779.00  193719.00  138006.0    4050.0  88321.00   \n",
       "3  2018  Günlük     695.0     739.00     528.00     375.0     275.0    240.00   \n",
       "4  2018   Aylık   21128.0   22485.25   16054.25   11406.0    8352.0   7313.00   \n",
       "5  2018  Yıllık  253532.0  269823.00  192651.00  136874.0  100223.5  87757.00   \n",
       "6  2019  Günlük     700.0     695.00     532.00     377.0     348.0    261.00   \n",
       "7  2019   Aylık   21296.5   21147.00   16180.75   11462.0   10585.0   7951.75   \n",
       "8  2019  Yıllık  255558.0  253764.00  194169.00  137546.0  127022.0  95421.00   \n",
       "\n",
       "    T1 Hattı  T3 Hattı  T4 Hattı  F1 Hattı  TF1 Hattı  TF2 Hattı  \n",
       "0     687.00        73       390       383       64.0     198.00  \n",
       "1   20892.00      2222     11872     11661     1953.0    6026.00  \n",
       "2  250704.00     26659    142468    139932    23440.0   72314.00  \n",
       "3     715.00        82       401       383       81.0     214.00  \n",
       "4   21744.25      2507     12194     11656     2452.5    6502.75  \n",
       "5  260931.00     30079    146333    139872    29430.0   78033.00  \n",
       "6     758.00        70       420       387       87.0     197.00  \n",
       "7   23063.00      2136     12783     11782     2658.0    5980.00  \n",
       "8  276752.00     25626    153397    141385    31894.0   71758.00  "
      ]
     },
     "execution_count": 159,
     "metadata": {},
     "output_type": "execute_result"
    }
   ],
   "source": [
    "xls = pd.ExcelFile(PATH)\n",
    "df = pd.read_excel(xls, 'Raylı Sis. Hat Bazlı Sefer S.')\n",
    "df"
   ]
  },
  {
   "cell_type": "markdown",
   "id": "9809721d-f859-4474-9820-40b4861335f3",
   "metadata": {
    "tags": []
   },
   "source": [
    "### İlginç bir şekilde missing value yok!🥳"
   ]
  },
  {
   "cell_type": "code",
   "execution_count": 160,
   "id": "e2a29aef-49b1-44b8-9378-a9b549f6aed4",
   "metadata": {},
   "outputs": [
    {
     "name": "stdout",
     "output_type": "stream",
     "text": [
      "##################### Shape #####################\n",
      "(9, 14)\n",
      "##################### Types #####################\n",
      "Yıl            int64\n",
      "Periyot       object\n",
      "M1 Hattı     float64\n",
      "M2 Hattı     float64\n",
      "M3 Hattı     float64\n",
      "M4 Hattı     float64\n",
      "M5 Hattı     float64\n",
      "M6 Hattı     float64\n",
      "T1 Hattı     float64\n",
      "T3 Hattı       int64\n",
      "T4 Hattı       int64\n",
      "F1 Hattı       int64\n",
      "TF1 Hattı    float64\n",
      "TF2 Hattı    float64\n",
      "dtype: object\n",
      "##################### Head #####################\n",
      "    Yıl Periyot  M1 Hattı   M2 Hattı   M3 Hattı  M4 Hattı  M5 Hattı  M6 Hattı  \\\n",
      "0  2017  Günlük     692.0     744.60     531.00     378.0     270.0     242.0   \n",
      "1  2017   Aylık   21052.0   22648.25   16143.25   11500.5    4050.0    7360.0   \n",
      "2  2017  Yıllık  252628.0  271779.00  193719.00  138006.0    4050.0   88321.0   \n",
      "3  2018  Günlük     695.0     739.00     528.00     375.0     275.0     240.0   \n",
      "4  2018   Aylık   21128.0   22485.25   16054.25   11406.0    8352.0    7313.0   \n",
      "\n",
      "    T1 Hattı  T3 Hattı  T4 Hattı  F1 Hattı  TF1 Hattı  TF2 Hattı  \n",
      "0     687.00        73       390       383       64.0     198.00  \n",
      "1   20892.00      2222     11872     11661     1953.0    6026.00  \n",
      "2  250704.00     26659    142468    139932    23440.0   72314.00  \n",
      "3     715.00        82       401       383       81.0     214.00  \n",
      "4   21744.25      2507     12194     11656     2452.5    6502.75  \n",
      "##################### Tail #####################\n",
      "    Yıl Periyot  M1 Hattı   M2 Hattı   M3 Hattı  M4 Hattı  M5 Hattı  M6 Hattı  \\\n",
      "4  2018   Aylık   21128.0   22485.25   16054.25   11406.0    8352.0   7313.00   \n",
      "5  2018  Yıllık  253532.0  269823.00  192651.00  136874.0  100223.5  87757.00   \n",
      "6  2019  Günlük     700.0     695.00     532.00     377.0     348.0    261.00   \n",
      "7  2019   Aylık   21296.5   21147.00   16180.75   11462.0   10585.0   7951.75   \n",
      "8  2019  Yıllık  255558.0  253764.00  194169.00  137546.0  127022.0  95421.00   \n",
      "\n",
      "    T1 Hattı  T3 Hattı  T4 Hattı  F1 Hattı  TF1 Hattı  TF2 Hattı  \n",
      "4   21744.25      2507     12194     11656     2452.5    6502.75  \n",
      "5  260931.00     30079    146333    139872    29430.0   78033.00  \n",
      "6     758.00        70       420       387       87.0     197.00  \n",
      "7   23063.00      2136     12783     11782     2658.0    5980.00  \n",
      "8  276752.00     25626    153397    141385    31894.0   71758.00  \n",
      "##################### is null? #####################\n",
      "Yıl          0\n",
      "Periyot      0\n",
      "M1 Hattı     0\n",
      "M2 Hattı     0\n",
      "M3 Hattı     0\n",
      "M4 Hattı     0\n",
      "M5 Hattı     0\n",
      "M6 Hattı     0\n",
      "T1 Hattı     0\n",
      "T3 Hattı     0\n",
      "T4 Hattı     0\n",
      "F1 Hattı     0\n",
      "TF1 Hattı    0\n",
      "TF2 Hattı    0\n",
      "dtype: int64\n",
      "##################### Quantiles #####################\n",
      "             0.00    0.25      0.50      0.75       0.99      1.00\n",
      "Yıl        2017.0  2017.0   2018.00    2019.0    2019.00    2019.0\n",
      "M1 Hattı    692.0   700.0  21128.00  252628.0  255395.92  255558.0\n",
      "M2 Hattı    695.0   744.6  22485.25  253764.0  271622.52  271779.0\n",
      "M3 Hattı    528.0   532.0  16143.25  192651.0  194133.00  194169.0\n",
      "M4 Hattı    375.0   378.0  11462.00  136874.0  137969.20  138006.0\n",
      "M5 Hattı    270.0   348.0   4050.00   10585.0  124878.12  127022.0\n",
      "M6 Hattı    240.0   261.0   7360.00   87757.0   94853.00   95421.0\n",
      "T1 Hattı    687.0   758.0  21744.25  250704.0  275486.32  276752.0\n",
      "T3 Hattı     70.0    82.0   2222.00   25626.0   29805.40   30079.0\n",
      "T4 Hattı    390.0   420.0  12194.00  142468.0  152831.88  153397.0\n",
      "F1 Hattı    383.0   387.0  11661.00  139872.0  141268.76  141385.0\n",
      "TF1 Hattı    64.0    87.0   2452.50   23440.0   31696.88   31894.0\n",
      "TF2 Hattı   197.0   214.0   6026.00   71758.0   77575.48   78033.0\n",
      "           count          mean            std     min     25%       50%  \\\n",
      "Yıl          9.0   2018.000000       0.866025  2017.0  2017.0   2018.00   \n",
      "M1 Hattı     9.0  91920.166667  121814.403552   692.0   700.0  21128.00   \n",
      "M2 Hattı     9.0  95980.566667  127289.694274   695.0   744.6  22485.25   \n",
      "M3 Hattı     9.0  70056.472222   92839.161675   528.0   532.0  16143.25   \n",
      "M4 Hattı     9.0  49769.388889   65954.797791   375.0   378.0  11462.00   \n",
      "M5 Hattı     9.0  28352.833333   48937.795685   270.0   348.0   4050.00   \n",
      "M6 Hattı     9.0  32762.972222   43470.407137   240.0   261.0   7360.00   \n",
      "T1 Hattı     9.0  95138.472222  126248.732473   687.0   758.0  21744.25   \n",
      "T3 Hattı     9.0   9939.333333   13223.223208    70.0    82.0   2222.00   \n",
      "T4 Hattı     9.0  53362.000000   70769.981751   390.0   420.0  12194.00   \n",
      "F1 Hattı     9.0  50826.777778   67356.984704   383.0   387.0  11661.00   \n",
      "TF1 Hattı    9.0  10228.833333   13729.696869    64.0    87.0   2452.50   \n",
      "TF2 Hattı    9.0  26802.527778   35561.175167   197.0   214.0   6026.00   \n",
      "\n",
      "                75%       max  \n",
      "Yıl          2019.0    2019.0  \n",
      "M1 Hattı   252628.0  255558.0  \n",
      "M2 Hattı   253764.0  271779.0  \n",
      "M3 Hattı   192651.0  194169.0  \n",
      "M4 Hattı   136874.0  138006.0  \n",
      "M5 Hattı    10585.0  127022.0  \n",
      "M6 Hattı    87757.0   95421.0  \n",
      "T1 Hattı   250704.0  276752.0  \n",
      "T3 Hattı    25626.0   30079.0  \n",
      "T4 Hattı   142468.0  153397.0  \n",
      "F1 Hattı   139872.0  141385.0  \n",
      "TF1 Hattı   23440.0   31894.0  \n",
      "TF2 Hattı   71758.0   78033.0  \n"
     ]
    }
   ],
   "source": [
    "def check_df(dataframe, head=5):\n",
    "    print('##################### Shape #####################')\n",
    "    print(dataframe.shape)\n",
    "\n",
    "    print('##################### Types #####################')\n",
    "    print(dataframe.dtypes)\n",
    "\n",
    "    print('##################### Head #####################')\n",
    "    print(dataframe.head(head))\n",
    "\n",
    "    print('##################### Tail #####################')\n",
    "    print(dataframe.tail(head))\n",
    "\n",
    "    print('##################### is null? #####################')\n",
    "    print(dataframe.isnull().sum())\n",
    "\n",
    "    print('##################### Quantiles #####################')\n",
    "    print(dataframe.quantile([0, 0.25, 0.50, 0.75, 0.99, 1]).T)\n",
    "    print(dataframe.describe().T)\n",
    "\n",
    "\n",
    "check_df(df)"
   ]
  },
  {
   "cell_type": "markdown",
   "id": "0d7a6eb5-cd8f-4f5a-b8f7-4eb1f2e5c04b",
   "metadata": {},
   "source": [
    "### Sadece M2 Hattını inceleyeceğimiz için gerekli kısımları alıyorum."
   ]
  },
  {
   "cell_type": "code",
   "execution_count": 24,
   "id": "65b945cf-8e7b-4292-83b3-293ce05dee4b",
   "metadata": {},
   "outputs": [
    {
     "data": {
      "text/html": [
       "<div>\n",
       "<style scoped>\n",
       "    .dataframe tbody tr th:only-of-type {\n",
       "        vertical-align: middle;\n",
       "    }\n",
       "\n",
       "    .dataframe tbody tr th {\n",
       "        vertical-align: top;\n",
       "    }\n",
       "\n",
       "    .dataframe thead th {\n",
       "        text-align: right;\n",
       "    }\n",
       "</style>\n",
       "<table border=\"1\" class=\"dataframe\">\n",
       "  <thead>\n",
       "    <tr style=\"text-align: right;\">\n",
       "      <th></th>\n",
       "      <th>Yıl</th>\n",
       "      <th>Periyot</th>\n",
       "      <th>M2 Hattı</th>\n",
       "    </tr>\n",
       "  </thead>\n",
       "  <tbody>\n",
       "    <tr>\n",
       "      <th>0</th>\n",
       "      <td>2017</td>\n",
       "      <td>Günlük</td>\n",
       "      <td>744.60</td>\n",
       "    </tr>\n",
       "    <tr>\n",
       "      <th>1</th>\n",
       "      <td>2017</td>\n",
       "      <td>Aylık</td>\n",
       "      <td>22648.25</td>\n",
       "    </tr>\n",
       "    <tr>\n",
       "      <th>2</th>\n",
       "      <td>2017</td>\n",
       "      <td>Yıllık</td>\n",
       "      <td>271779.00</td>\n",
       "    </tr>\n",
       "    <tr>\n",
       "      <th>3</th>\n",
       "      <td>2018</td>\n",
       "      <td>Günlük</td>\n",
       "      <td>739.00</td>\n",
       "    </tr>\n",
       "    <tr>\n",
       "      <th>4</th>\n",
       "      <td>2018</td>\n",
       "      <td>Aylık</td>\n",
       "      <td>22485.25</td>\n",
       "    </tr>\n",
       "    <tr>\n",
       "      <th>5</th>\n",
       "      <td>2018</td>\n",
       "      <td>Yıllık</td>\n",
       "      <td>269823.00</td>\n",
       "    </tr>\n",
       "    <tr>\n",
       "      <th>6</th>\n",
       "      <td>2019</td>\n",
       "      <td>Günlük</td>\n",
       "      <td>695.00</td>\n",
       "    </tr>\n",
       "    <tr>\n",
       "      <th>7</th>\n",
       "      <td>2019</td>\n",
       "      <td>Aylık</td>\n",
       "      <td>21147.00</td>\n",
       "    </tr>\n",
       "    <tr>\n",
       "      <th>8</th>\n",
       "      <td>2019</td>\n",
       "      <td>Yıllık</td>\n",
       "      <td>253764.00</td>\n",
       "    </tr>\n",
       "  </tbody>\n",
       "</table>\n",
       "</div>"
      ],
      "text/plain": [
       "    Yıl Periyot   M2 Hattı\n",
       "0  2017  Günlük     744.60\n",
       "1  2017   Aylık   22648.25\n",
       "2  2017  Yıllık  271779.00\n",
       "3  2018  Günlük     739.00\n",
       "4  2018   Aylık   22485.25\n",
       "5  2018  Yıllık  269823.00\n",
       "6  2019  Günlük     695.00\n",
       "7  2019   Aylık   21147.00\n",
       "8  2019  Yıllık  253764.00"
      ]
     },
     "execution_count": 24,
     "metadata": {},
     "output_type": "execute_result"
    }
   ],
   "source": [
    "df_m2 = df[['Yıl', 'Periyot', 'M2 Hattı']]\n",
    "df_m2"
   ]
  },
  {
   "cell_type": "markdown",
   "id": "678a7aa7-797b-4e16-b0e9-9bc18b8ca297",
   "metadata": {},
   "source": [
    "### Yani şu periyot kolonu tamamen üşengeçlik yapsana günlük_periyot, aylık_periyot diye.. <br>Neyse her şeyi devletten beklememek lazım diyip kendimiz ayırıyoruz."
   ]
  },
  {
   "cell_type": "code",
   "execution_count": 151,
   "id": "c41f65fb-5c47-4375-a861-22f9d5b55960",
   "metadata": {},
   "outputs": [
    {
     "data": {
      "text/html": [
       "<div>\n",
       "<style scoped>\n",
       "    .dataframe tbody tr th:only-of-type {\n",
       "        vertical-align: middle;\n",
       "    }\n",
       "\n",
       "    .dataframe tbody tr th {\n",
       "        vertical-align: top;\n",
       "    }\n",
       "\n",
       "    .dataframe thead th {\n",
       "        text-align: right;\n",
       "    }\n",
       "</style>\n",
       "<table border=\"1\" class=\"dataframe\">\n",
       "  <thead>\n",
       "    <tr style=\"text-align: right;\">\n",
       "      <th></th>\n",
       "      <th></th>\n",
       "      <th>M2 Hattı</th>\n",
       "    </tr>\n",
       "    <tr>\n",
       "      <th>Yıl</th>\n",
       "      <th>Periyot</th>\n",
       "      <th></th>\n",
       "    </tr>\n",
       "  </thead>\n",
       "  <tbody>\n",
       "    <tr>\n",
       "      <th rowspan=\"3\" valign=\"top\">2017</th>\n",
       "      <th>Aylık</th>\n",
       "      <td>22648.25</td>\n",
       "    </tr>\n",
       "    <tr>\n",
       "      <th>Günlük</th>\n",
       "      <td>744.60</td>\n",
       "    </tr>\n",
       "    <tr>\n",
       "      <th>Yıllık</th>\n",
       "      <td>271779.00</td>\n",
       "    </tr>\n",
       "    <tr>\n",
       "      <th rowspan=\"3\" valign=\"top\">2018</th>\n",
       "      <th>Aylık</th>\n",
       "      <td>22485.25</td>\n",
       "    </tr>\n",
       "    <tr>\n",
       "      <th>Günlük</th>\n",
       "      <td>739.00</td>\n",
       "    </tr>\n",
       "    <tr>\n",
       "      <th>Yıllık</th>\n",
       "      <td>269823.00</td>\n",
       "    </tr>\n",
       "    <tr>\n",
       "      <th rowspan=\"3\" valign=\"top\">2019</th>\n",
       "      <th>Aylık</th>\n",
       "      <td>21147.00</td>\n",
       "    </tr>\n",
       "    <tr>\n",
       "      <th>Günlük</th>\n",
       "      <td>695.00</td>\n",
       "    </tr>\n",
       "    <tr>\n",
       "      <th>Yıllık</th>\n",
       "      <td>253764.00</td>\n",
       "    </tr>\n",
       "  </tbody>\n",
       "</table>\n",
       "</div>"
      ],
      "text/plain": [
       "               M2 Hattı\n",
       "Yıl  Periyot           \n",
       "2017 Aylık     22648.25\n",
       "     Günlük      744.60\n",
       "     Yıllık   271779.00\n",
       "2018 Aylık     22485.25\n",
       "     Günlük      739.00\n",
       "     Yıllık   269823.00\n",
       "2019 Aylık     21147.00\n",
       "     Günlük      695.00\n",
       "     Yıllık   253764.00"
      ]
     },
     "execution_count": 151,
     "metadata": {},
     "output_type": "execute_result"
    }
   ],
   "source": [
    "by_year = df_m2.groupby(['Yıl', 'Periyot'])\n",
    "by_year.first()"
   ]
  },
  {
   "cell_type": "markdown",
   "id": "ebd6cce9-7d34-4a25-95ff-954f3911144c",
   "metadata": {},
   "source": [
    "### Yukardaki çok ayrık gelmedi daha da paramparça edip bölmeye devam ediyoruz."
   ]
  },
  {
   "cell_type": "code",
   "execution_count": 41,
   "id": "9787ee25-ce96-4f0f-bc25-5fbd5aa85274",
   "metadata": {},
   "outputs": [
    {
     "data": {
      "text/html": [
       "<div>\n",
       "<style scoped>\n",
       "    .dataframe tbody tr th:only-of-type {\n",
       "        vertical-align: middle;\n",
       "    }\n",
       "\n",
       "    .dataframe tbody tr th {\n",
       "        vertical-align: top;\n",
       "    }\n",
       "\n",
       "    .dataframe thead th {\n",
       "        text-align: right;\n",
       "    }\n",
       "</style>\n",
       "<table border=\"1\" class=\"dataframe\">\n",
       "  <thead>\n",
       "    <tr style=\"text-align: right;\">\n",
       "      <th></th>\n",
       "      <th>Yıl</th>\n",
       "      <th>Periyot</th>\n",
       "      <th>M2 Hattı</th>\n",
       "    </tr>\n",
       "  </thead>\n",
       "  <tbody>\n",
       "    <tr>\n",
       "      <th>0</th>\n",
       "      <td>2017</td>\n",
       "      <td>Günlük</td>\n",
       "      <td>744.6</td>\n",
       "    </tr>\n",
       "    <tr>\n",
       "      <th>3</th>\n",
       "      <td>2018</td>\n",
       "      <td>Günlük</td>\n",
       "      <td>739.0</td>\n",
       "    </tr>\n",
       "    <tr>\n",
       "      <th>6</th>\n",
       "      <td>2019</td>\n",
       "      <td>Günlük</td>\n",
       "      <td>695.0</td>\n",
       "    </tr>\n",
       "  </tbody>\n",
       "</table>\n",
       "</div>"
      ],
      "text/plain": [
       "    Yıl Periyot  M2 Hattı\n",
       "0  2017  Günlük     744.6\n",
       "3  2018  Günlük     739.0\n",
       "6  2019  Günlük     695.0"
      ]
     },
     "execution_count": 41,
     "metadata": {},
     "output_type": "execute_result"
    }
   ],
   "source": [
    "daily = df_m2.loc[df_m2.Periyot == 'Günlük']\n",
    "daily"
   ]
  },
  {
   "cell_type": "code",
   "execution_count": 43,
   "id": "30f8dcae-e051-4bd5-a3e5-cf3c22015e5f",
   "metadata": {},
   "outputs": [
    {
     "data": {
      "text/html": [
       "<div>\n",
       "<style scoped>\n",
       "    .dataframe tbody tr th:only-of-type {\n",
       "        vertical-align: middle;\n",
       "    }\n",
       "\n",
       "    .dataframe tbody tr th {\n",
       "        vertical-align: top;\n",
       "    }\n",
       "\n",
       "    .dataframe thead th {\n",
       "        text-align: right;\n",
       "    }\n",
       "</style>\n",
       "<table border=\"1\" class=\"dataframe\">\n",
       "  <thead>\n",
       "    <tr style=\"text-align: right;\">\n",
       "      <th></th>\n",
       "      <th>Yıl</th>\n",
       "      <th>Periyot</th>\n",
       "      <th>M2 Hattı</th>\n",
       "    </tr>\n",
       "  </thead>\n",
       "  <tbody>\n",
       "    <tr>\n",
       "      <th>1</th>\n",
       "      <td>2017</td>\n",
       "      <td>Aylık</td>\n",
       "      <td>22648.25</td>\n",
       "    </tr>\n",
       "    <tr>\n",
       "      <th>4</th>\n",
       "      <td>2018</td>\n",
       "      <td>Aylık</td>\n",
       "      <td>22485.25</td>\n",
       "    </tr>\n",
       "    <tr>\n",
       "      <th>7</th>\n",
       "      <td>2019</td>\n",
       "      <td>Aylık</td>\n",
       "      <td>21147.00</td>\n",
       "    </tr>\n",
       "  </tbody>\n",
       "</table>\n",
       "</div>"
      ],
      "text/plain": [
       "    Yıl Periyot  M2 Hattı\n",
       "1  2017   Aylık  22648.25\n",
       "4  2018   Aylık  22485.25\n",
       "7  2019   Aylık  21147.00"
      ]
     },
     "execution_count": 43,
     "metadata": {},
     "output_type": "execute_result"
    }
   ],
   "source": [
    "monthly = df_m2.loc[df_m2.Periyot == 'Aylık']\n",
    "monthly"
   ]
  },
  {
   "cell_type": "code",
   "execution_count": 74,
   "id": "efcc9d33-6f7e-44f0-8f62-a16ac0659116",
   "metadata": {},
   "outputs": [
    {
     "data": {
      "text/html": [
       "<div>\n",
       "<style scoped>\n",
       "    .dataframe tbody tr th:only-of-type {\n",
       "        vertical-align: middle;\n",
       "    }\n",
       "\n",
       "    .dataframe tbody tr th {\n",
       "        vertical-align: top;\n",
       "    }\n",
       "\n",
       "    .dataframe thead th {\n",
       "        text-align: right;\n",
       "    }\n",
       "</style>\n",
       "<table border=\"1\" class=\"dataframe\">\n",
       "  <thead>\n",
       "    <tr style=\"text-align: right;\">\n",
       "      <th></th>\n",
       "      <th>Yıl</th>\n",
       "      <th>Periyot</th>\n",
       "      <th>M2 Hattı</th>\n",
       "    </tr>\n",
       "  </thead>\n",
       "  <tbody>\n",
       "    <tr>\n",
       "      <th>2</th>\n",
       "      <td>2017</td>\n",
       "      <td>Yıllık</td>\n",
       "      <td>271779.0</td>\n",
       "    </tr>\n",
       "    <tr>\n",
       "      <th>5</th>\n",
       "      <td>2018</td>\n",
       "      <td>Yıllık</td>\n",
       "      <td>269823.0</td>\n",
       "    </tr>\n",
       "    <tr>\n",
       "      <th>8</th>\n",
       "      <td>2019</td>\n",
       "      <td>Yıllık</td>\n",
       "      <td>253764.0</td>\n",
       "    </tr>\n",
       "  </tbody>\n",
       "</table>\n",
       "</div>"
      ],
      "text/plain": [
       "    Yıl Periyot  M2 Hattı\n",
       "2  2017  Yıllık  271779.0\n",
       "5  2018  Yıllık  269823.0\n",
       "8  2019  Yıllık  253764.0"
      ]
     },
     "execution_count": 74,
     "metadata": {},
     "output_type": "execute_result"
    }
   ],
   "source": [
    "yearly = df_m2.loc[df_m2.Periyot == 'Yıllık']\n",
    "yearly"
   ]
  },
  {
   "cell_type": "markdown",
   "id": "89b1d088-a7fe-4c1d-bd02-c9c85fd4c136",
   "metadata": {},
   "source": [
    "### Tutarsızlığı fark ettiniz mi? Abonman fiyatının en pahalı olduğu 2017/2018 yılında hem günlük hem aylık hem de yıllık olarak kullanım oranı, abonman fiyatının %53'lük bir indirim aldığı 2019 yılına göre daha fazla. Neyse bir de ufağından görselleştirelim.."
   ]
  },
  {
   "cell_type": "code",
   "execution_count": 105,
   "id": "416bfc2e-0fc0-4e03-83d4-8e862457907e",
   "metadata": {},
   "outputs": [
    {
     "data": {
      "text/plain": [
       "Text(0, 0.5, 'Günlük Periyot')"
      ]
     },
     "execution_count": 105,
     "metadata": {},
     "output_type": "execute_result"
    },
    {
     "data": {
      "image/png": "[encoded data removed]",
      "text/plain": [
       "<Figure size 720x432 with 1 Axes>"
      ]
     },
     "metadata": {
      "needs_background": "light"
     },
     "output_type": "display_data"
    }
   ],
   "source": [
    "plt.figure(figsize=(10,6))\n",
    "plt.title(\"Yıllara Göre Günlük M2 Hattı Kullanımı\")\n",
    "clrs = ['grey' if (x < max(daily['M2 Hattı'])) else 'red' for x in daily['M2 Hattı']]\n",
    "sns.barplot(x=daily.Yıl, y=daily['M2 Hattı'], palette=clrs)\n",
    "plt.ylabel(\"Günlük Periyot\")"
   ]
  },
  {
   "cell_type": "code",
   "execution_count": 107,
   "id": "f7cab5b4-d682-4b4a-bef7-7142e010186d",
   "metadata": {},
   "outputs": [
    {
     "data": {
      "text/plain": [
       "Text(0, 0.5, 'Aylık Periyot')"
      ]
     },
     "execution_count": 107,
     "metadata": {},
     "output_type": "execute_result"
    },
    {
     "data": {
      "image/png": "[encoded data removed]",
      "text/plain": [
       "<Figure size 720x432 with 1 Axes>"
      ]
     },
     "metadata": {
      "needs_background": "light"
     },
     "output_type": "display_data"
    }
   ],
   "source": [
    "plt.figure(figsize=(10,6))\n",
    "plt.title(\"Yıllara Göre Aylık M2 Hattı Kullanımı\")\n",
    "clrs = ['grey' if (x < max(monthly['M2 Hattı'])) else 'red' for x in monthly['M2 Hattı']]\n",
    "sns.barplot(x=monthly.Yıl, y=monthly['M2 Hattı'], palette=clrs)\n",
    "plt.ylabel(\"Aylık Periyot\")"
   ]
  },
  {
   "cell_type": "code",
   "execution_count": 108,
   "id": "a9b920d7-73f5-4dbd-a2fc-d0a43393357f",
   "metadata": {},
   "outputs": [
    {
     "data": {
      "text/plain": [
       "Text(0, 0.5, 'Yıllık Periyot')"
      ]
     },
     "execution_count": 108,
     "metadata": {},
     "output_type": "execute_result"
    },
    {
     "data": {
      "image/png": "[encoded data removed]",
      "text/plain": [
       "<Figure size 720x432 with 1 Axes>"
      ]
     },
     "metadata": {
      "needs_background": "light"
     },
     "output_type": "display_data"
    }
   ],
   "source": [
    "plt.figure(figsize=(10,6))\n",
    "plt.title(\"Yıllara Göre Yıllık M2 Hattı Kullanımı\")\n",
    "clrs = ['grey' if (x < max(yearly['M2 Hattı'])) else 'red' for x in yearly['M2 Hattı']]\n",
    "sns.barplot(x=yearly.Yıl, y=yearly['M2 Hattı'], palette=clrs)\n",
    "plt.ylabel(\"Yıllık Periyot\")"
   ]
  },
  {
   "cell_type": "markdown",
   "id": "8a2083ca-d9d3-402d-aabe-c4927b0cd3e4",
   "metadata": {},
   "source": [
    "### data.ibb'den ricalar😇: <br>\n",
    " - Güncel dataları getirirseniz sevinirim.\n",
    " - Data spesifik kolonlar ve tercihen ingilizce kolon isimleri.\n",
    " - Verilerin doğruluğu da bir sorgulanabilir bana çok gerçekçi gelmedi.(Veri toplamayı basılan akbile göre alıyorsanız yanlış olması çok muhtemel değil ama ben yine söyliyim.)"
   ]
  }
 ],
 "metadata": {
  "kernelspec": {
   "display_name": "Python [conda env:datascience] *",
   "language": "python",
   "name": "conda-env-datascience-py"
  },
  "language_info": {
   "codemirror_mode": {
    "name": "ipython",
    "version": 3
   },
   "file_extension": ".py",
   "mimetype": "text/x-python",
   "name": "python",
   "nbconvert_exporter": "python",
   "pygments_lexer": "ipython3",
   "version": "3.8.13"
  }
 },
 "nbformat": 4,
 "nbformat_minor": 5
}
